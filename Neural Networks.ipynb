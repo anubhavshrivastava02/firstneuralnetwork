{
  "nbformat": 4,
  "nbformat_minor": 0,
  "metadata": {
    "colab": {
      "name": "Untitled3.ipynb",
      "provenance": []
    },
    "kernelspec": {
      "name": "python3",
      "display_name": "Python 3"
    },
    "language_info": {
      "name": "python"
    }
  },
  "cells": [
    {
      "cell_type": "code",
      "metadata": {
        "id": "POVslNEZwRNP"
      },
      "source": [
        "import numpy as np\n",
        "import scipy.special"
      ],
      "execution_count": 264,
      "outputs": []
    },
    {
      "cell_type": "code",
      "metadata": {
        "id": "Bd_JL7YTsWtl"
      },
      "source": [
        "class NeuralNetworks:\n",
        "\n",
        "  def __init__(self, inputnodes, hiddennodes, outputnodes, learningrate):\n",
        "\n",
        "    self.inodes = inputnodes\n",
        "    self.hnodes = hiddennodes\n",
        "    self.onodes = outputnodes\n",
        "\n",
        "    print('Input nodes: ', self.inodes, 'Hidden Nodes: ', self.hnodes, 'Output Nodes: ', self.onodes )\n",
        "    self.wih = (np.random.rand(self.hnodes, self.inodes) - 0.5)\n",
        "    self.who = (np.random.rand(self.onodes, self.hnodes) - 0.5)\n",
        "\n",
        "    print('Matrix: \\n', self.wih)\n",
        "    print('Matrix: \\n', self.who)\n",
        "\n",
        "    self.lr  = learningrate\n",
        "\n",
        "    self.activation_function = lambda x: scipy.special.expit(x)\n",
        "\n",
        "    pass\n",
        "  \n",
        "  def train(self, input_list, targets_list):\n",
        "\n",
        "    inputs = np.array(input_list, ndmin=2).T\n",
        "    targets = np.array(targets_list, ndmin=2).T\n",
        "\n",
        "    hidden_inputs = np.dot(self.wih, inputs)\n",
        "    hidden_outputs = self.activation_function(hidden_inputs)\n",
        "\n",
        "    final_inputs = np.dot(self.who, hidden_inputs)\n",
        "    final_outputs = self.activation_function(final_inputs)\n",
        "\n",
        "    output_errors = targets - final_outputs\n",
        "\n",
        "    hidden_errors = np.dot(self.who.T, output_errors)\n",
        "\n",
        "    self.who += self.lr * np.dot(output_errors * final_outputs * (1.0 - final_outputs), np.transpose(hidden_outputs))\n",
        "\n",
        "    self.wih += self.lr * np.dot(hidden_errors * hidden_outputs * (1.0 - hidden_outputs), np.transpose(inputs))\n",
        "    pass\n",
        "  \n",
        "  def query(self, input_list):\n",
        "\n",
        "    inputs = np.array(input_list, ndmin=2).T\n",
        "\n",
        "    hidden_inputs = np.dot(self.wih, inputs)\n",
        "    hidden_outputs = self.activation_function(hidden_inputs)\n",
        "\n",
        "    final_inputs = np.dot(self.who, hidden_outputs)\n",
        "\n",
        "    final_outputs = self.activation_function(final_inputs)\n",
        "\n",
        "    return final_outputs\n"
      ],
      "execution_count": 265,
      "outputs": []
    },
    {
      "cell_type": "code",
      "metadata": {
        "colab": {
          "base_uri": "https://localhost:8080/"
        },
        "id": "eLPNRuqya86O",
        "outputId": "805e4a18-8027-4540-86db-18ce7a3eeae6"
      },
      "source": [
        "n = NeuralNetworks(inputnodes= 784, hiddennodes = 200, outputnodes = 10, learningrate = 0.1)"
      ],
      "execution_count": 266,
      "outputs": [
        {
          "output_type": "stream",
          "name": "stdout",
          "text": [
            "Input nodes:  784 Hidden Nodes:  200 Output Nodes:  10\n",
            "Matrix: \n",
            " [[-0.45833142 -0.15363266 -0.0112473  ...  0.38202994  0.14804979\n",
            "  -0.06704275]\n",
            " [ 0.48792101 -0.41762766 -0.03604411 ...  0.06533201  0.31272956\n",
            "   0.04693264]\n",
            " [ 0.08286878 -0.03343754  0.24609146 ... -0.49010458 -0.47608327\n",
            "   0.34738062]\n",
            " ...\n",
            " [-0.00529882 -0.40417485 -0.4461376  ...  0.45636987  0.30725883\n",
            "   0.12703874]\n",
            " [ 0.06797496  0.12269868  0.01202875 ... -0.29030672 -0.25181276\n",
            "   0.41503293]\n",
            " [-0.43171535 -0.1517744  -0.43452385 ...  0.45909495 -0.40553389\n",
            "   0.23089198]]\n",
            "Matrix: \n",
            " [[ 0.28114717  0.06938117  0.36232387 ...  0.14772189  0.48815712\n",
            "  -0.08348017]\n",
            " [ 0.43789566  0.39553486  0.22408199 ... -0.0393213   0.1713362\n",
            "   0.31108249]\n",
            " [ 0.20759661 -0.32076213 -0.03461025 ...  0.2508152  -0.01968933\n",
            "   0.35642813]\n",
            " ...\n",
            " [-0.04356336  0.44151598 -0.18384964 ...  0.45398193 -0.34373635\n",
            "  -0.06761244]\n",
            " [-0.35062744  0.36518765 -0.3543135  ...  0.08381805 -0.41097682\n",
            "  -0.35262295]\n",
            " [ 0.29375049  0.33805866  0.30847114 ...  0.17751326 -0.02249904\n",
            "  -0.11560439]]\n"
          ]
        }
      ]
    },
    {
      "cell_type": "code",
      "metadata": {
        "id": "ZwJMVJq0MvZ5"
      },
      "source": [
        "training_data = open('/content/mnist_train_100.csv', 'r')\n",
        "training_data_list = training_data.readlines()\n",
        "training_data.close()"
      ],
      "execution_count": 267,
      "outputs": []
    },
    {
      "cell_type": "code",
      "metadata": {
        "colab": {
          "base_uri": "https://localhost:8080/"
        },
        "id": "mTEuIfaJZ1Vg",
        "outputId": "a38fd20d-b5c5-4256-9950-e223061112c1"
      },
      "source": [
        "epoch = 100\n",
        "\n",
        "for e in range(epoch):\n",
        "  print('epoch :', e+1)\n",
        "  for record in training_data_list:\n",
        "\n",
        "    all_values = record.split(',')\n",
        "    inputs = (np.asfarray(all_values[1:]) / 255.0 + 0.99) + 0.01\n",
        "\n",
        "    targets = np.zeros(10) + 0.01\n",
        "    targets[int(all_values[0])] = 0.99\n",
        "    n.train(inputs, targets)"
      ],
      "execution_count": 268,
      "outputs": [
        {
          "output_type": "stream",
          "name": "stdout",
          "text": [
            "epoch : 1\n",
            "epoch : 2\n",
            "epoch : 3\n",
            "epoch : 4\n",
            "epoch : 5\n",
            "epoch : 6\n",
            "epoch : 7\n",
            "epoch : 8\n",
            "epoch : 9\n",
            "epoch : 10\n",
            "epoch : 11\n",
            "epoch : 12\n",
            "epoch : 13\n",
            "epoch : 14\n",
            "epoch : 15\n",
            "epoch : 16\n",
            "epoch : 17\n",
            "epoch : 18\n",
            "epoch : 19\n",
            "epoch : 20\n",
            "epoch : 21\n",
            "epoch : 22\n",
            "epoch : 23\n",
            "epoch : 24\n",
            "epoch : 25\n",
            "epoch : 26\n",
            "epoch : 27\n",
            "epoch : 28\n",
            "epoch : 29\n",
            "epoch : 30\n",
            "epoch : 31\n",
            "epoch : 32\n",
            "epoch : 33\n",
            "epoch : 34\n",
            "epoch : 35\n",
            "epoch : 36\n",
            "epoch : 37\n",
            "epoch : 38\n",
            "epoch : 39\n",
            "epoch : 40\n",
            "epoch : 41\n",
            "epoch : 42\n",
            "epoch : 43\n",
            "epoch : 44\n",
            "epoch : 45\n",
            "epoch : 46\n",
            "epoch : 47\n",
            "epoch : 48\n",
            "epoch : 49\n",
            "epoch : 50\n",
            "epoch : 51\n",
            "epoch : 52\n",
            "epoch : 53\n",
            "epoch : 54\n",
            "epoch : 55\n",
            "epoch : 56\n",
            "epoch : 57\n",
            "epoch : 58\n",
            "epoch : 59\n",
            "epoch : 60\n",
            "epoch : 61\n",
            "epoch : 62\n",
            "epoch : 63\n",
            "epoch : 64\n",
            "epoch : 65\n",
            "epoch : 66\n",
            "epoch : 67\n",
            "epoch : 68\n",
            "epoch : 69\n",
            "epoch : 70\n",
            "epoch : 71\n",
            "epoch : 72\n",
            "epoch : 73\n",
            "epoch : 74\n",
            "epoch : 75\n",
            "epoch : 76\n",
            "epoch : 77\n",
            "epoch : 78\n",
            "epoch : 79\n",
            "epoch : 80\n",
            "epoch : 81\n",
            "epoch : 82\n",
            "epoch : 83\n",
            "epoch : 84\n",
            "epoch : 85\n",
            "epoch : 86\n",
            "epoch : 87\n",
            "epoch : 88\n",
            "epoch : 89\n",
            "epoch : 90\n",
            "epoch : 91\n",
            "epoch : 92\n",
            "epoch : 93\n",
            "epoch : 94\n",
            "epoch : 95\n",
            "epoch : 96\n",
            "epoch : 97\n",
            "epoch : 98\n",
            "epoch : 99\n",
            "epoch : 100\n"
          ]
        }
      ]
    },
    {
      "cell_type": "code",
      "metadata": {
        "id": "h6lKLtMLiCBM"
      },
      "source": [
        "test_data_file = open('/content/mnist_test_10.csv', 'r')\n",
        "test_data_list = test_data_file.readlines()\n",
        "test_data_file.close()"
      ],
      "execution_count": 269,
      "outputs": []
    },
    {
      "cell_type": "code",
      "metadata": {
        "id": "hROqFiWTiTAA"
      },
      "source": [
        "records = test_data_list[0]\n",
        "all_valuess = records.split(',')\n"
      ],
      "execution_count": 270,
      "outputs": []
    },
    {
      "cell_type": "code",
      "metadata": {
        "id": "z3EQs7PliwpG"
      },
      "source": [
        "inputs = (np.asfarray(all_valuess[1:]) / (255.0 * 0.99)) + 0.01 "
      ],
      "execution_count": 271,
      "outputs": []
    },
    {
      "cell_type": "code",
      "metadata": {
        "id": "_-a03xOzjLv1"
      },
      "source": [
        "n.query(inputs)"
      ],
      "execution_count": null,
      "outputs": []
    }
  ]
}